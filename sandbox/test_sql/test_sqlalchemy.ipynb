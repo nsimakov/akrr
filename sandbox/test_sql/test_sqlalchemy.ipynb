{
 "cells": [
  {
   "cell_type": "markdown",
   "source": [
    "# SQLAlchemy Testing\n",
    "\n",
    "```bash\n",
    "# Launch MySQL server with mod_akrr database\n",
    "docker run -it --rm --name akrr -h akrr \\\n",
    "    -v /home/nikolays/xdmod_wsp/access_akrr/mysql:/var/lib/mysql \\\n",
    "    -v /home/nikolays/xdmod_wsp/access_akrr/akrr/akrr_home:/home/akrruser/akrr \\\n",
    "    -p 3370:3306 -p 2270:22 \\\n",
    "    nsimakov/akrr_ready_centos_slurm_single_host_wlm:latest cmd_start sshd mysqld bash\n",
    "\n",
    "# Rocky 8 MariaDB 10.3\n",
    "# Launch MySQL server with mod_akrr database\n",
    "docker run -it --rm --name akrr3 -h akrr3 \\\n",
    "    -v /home/nikolays/xdmod_wsp/access_akrr/mysql_akrr3_test:/var/lib/mysql \\\n",
    "    -v /home/nikolays/xdmod_wsp/access_akrr/akrr/akrr_home:/home/akrruser/akrr \\\n",
    "    -v /home/nikolays/xdmod_wsp/akrr:/home/akrruser/akrr_src \\\n",
    "    -p 3371:3306 -p 2271:22 \\\n",
    "    nsimakov/akrr_ready:latest cmd_start sshd mysqld bash\n",
    "```"
   ],
   "metadata": {
    "collapsed": false,
    "pycharm": {
     "name": "#%% md\n"
    }
   }
  },
  {
   "cell_type": "code",
   "execution_count": 1,
   "outputs": [
    {
     "name": "stderr",
     "output_type": "stream",
     "text": [
      "\u001B[1;37mDEBUG\u001B[1;0m:root:AKRR_HOME is in default location. AKRR configuration is in /home/nikolays/akrr/etc/akrr.conf\n",
      "\u001B[1;37mDEBUG\u001B[1;0m:root:AKRR_HOME is in default location. AKRR configuration is in /home/nikolays/akrr/etc/akrr.conf\n",
      "\u001B[1;37mDEBUG\u001B[1;0m:root:Loading app test\n",
      "\u001B[1;37mDEBUG\u001B[1;0m:root:Loading app gamess\n",
      "\u001B[1;37mDEBUG\u001B[1;0m:root:Loading app gamess\n",
      "\u001B[1;37mDEBUG\u001B[1;0m:root:Loading app gamess\n",
      "\u001B[1;37mDEBUG\u001B[1;0m:root:Loading app nwchem\n",
      "\u001B[1;37mDEBUG\u001B[1;0m:root:Loading app nwchem\n",
      "\u001B[1;37mDEBUG\u001B[1;0m:root:Loading app nwchem\n",
      "\u001B[1;37mDEBUG\u001B[1;0m:root:Loading app nwchem\n",
      "\u001B[1;37mDEBUG\u001B[1;0m:root:Loading app nwchem\n",
      "\u001B[1;37mDEBUG\u001B[1;0m:root:Loading app nwchem\n",
      "\u001B[1;37mDEBUG\u001B[1;0m:root:Loading app nwchem\n",
      "\u001B[1;37mDEBUG\u001B[1;0m:root:Loading app nwchem\n",
      "\u001B[1;37mDEBUG\u001B[1;0m:root:Loading app bundle\n",
      "\u001B[1;37mDEBUG\u001B[1;0m:root:Loading app template\n",
      "\u001B[1;37mDEBUG\u001B[1;0m:root:Loading app gromacs\n",
      "\u001B[1;37mDEBUG\u001B[1;0m:root:Loading app gromacs\n",
      "\u001B[1;37mDEBUG\u001B[1;0m:root:Loading app gromacs\n",
      "\u001B[1;37mDEBUG\u001B[1;0m:root:Loading app gromacs\n",
      "\u001B[1;37mDEBUG\u001B[1;0m:root:Loading app gromacs\n",
      "\u001B[1;37mDEBUG\u001B[1;0m:root:Loading app graph500\n",
      "\u001B[1;37mDEBUG\u001B[1;0m:root:Loading app graph500\n",
      "\u001B[1;37mDEBUG\u001B[1;0m:root:Loading app graph500\n",
      "\u001B[1;37mDEBUG\u001B[1;0m:root:Loading app graph500\n",
      "\u001B[1;37mDEBUG\u001B[1;0m:root:Loading app graph500\n",
      "\u001B[1;37mDEBUG\u001B[1;0m:root:Loading app graph500\n",
      "\u001B[1;37mDEBUG\u001B[1;0m:root:Loading app graph500\n",
      "\u001B[1;37mDEBUG\u001B[1;0m:root:Loading app graph500\n",
      "\u001B[1;37mDEBUG\u001B[1;0m:root:Loading app access_stats\n",
      "\u001B[1;37mDEBUG\u001B[1;0m:root:Loading app gromacs_micro\n",
      "\u001B[1;37mDEBUG\u001B[1;0m:root:Loading app imb\n",
      "\u001B[1;37mDEBUG\u001B[1;0m:root:Loading app imb\n",
      "\u001B[1;37mDEBUG\u001B[1;0m:root:Loading app imb\n",
      "\u001B[1;37mDEBUG\u001B[1;0m:root:Loading app imb\n",
      "\u001B[1;37mDEBUG\u001B[1;0m:root:Loading app imb\n",
      "\u001B[1;37mDEBUG\u001B[1;0m:root:Loading app imb\n",
      "\u001B[1;37mDEBUG\u001B[1;0m:root:Loading app imb\n",
      "\u001B[1;37mDEBUG\u001B[1;0m:root:Loading app imb\n",
      "\u001B[1;37mDEBUG\u001B[1;0m:root:Loading app ior\n",
      "\u001B[1;37mDEBUG\u001B[1;0m:root:Loading app ior\n",
      "\u001B[1;37mDEBUG\u001B[1;0m:root:Loading app ior\n",
      "\u001B[1;37mDEBUG\u001B[1;0m:root:Loading app ior\n",
      "\u001B[1;37mDEBUG\u001B[1;0m:root:Loading app ior\n",
      "\u001B[1;37mDEBUG\u001B[1;0m:root:Loading app ior\n",
      "\u001B[1;37mDEBUG\u001B[1;0m:root:Loading app ior\n",
      "\u001B[1;37mDEBUG\u001B[1;0m:root:Loading app ior\n",
      "\u001B[1;37mDEBUG\u001B[1;0m:root:Loading app mpipi\n",
      "\u001B[1;37mDEBUG\u001B[1;0m:root:Loading app hpcg\n",
      "\u001B[1;37mDEBUG\u001B[1;0m:root:Loading app hpcg\n",
      "\u001B[1;37mDEBUG\u001B[1;0m:root:Loading app hpcg\n",
      "\u001B[1;37mDEBUG\u001B[1;0m:root:Loading app hpcg\n",
      "\u001B[1;37mDEBUG\u001B[1;0m:root:Loading app hpcg\n",
      "\u001B[1;37mDEBUG\u001B[1;0m:root:Loading app hpcg\n",
      "\u001B[1;37mDEBUG\u001B[1;0m:root:Loading app hpcg\n",
      "\u001B[1;37mDEBUG\u001B[1;0m:root:Loading app hpcg\n",
      "\u001B[1;37mDEBUG\u001B[1;0m:root:Loading app akrr_network_check\n",
      "\u001B[1;37mDEBUG\u001B[1;0m:root:Loading app akrr_network_check\n",
      "\u001B[1;37mDEBUG\u001B[1;0m:root:Loading app mdtest\n",
      "\u001B[1;37mDEBUG\u001B[1;0m:root:Loading app mdtest\n",
      "\u001B[1;37mDEBUG\u001B[1;0m:root:Loading app mdtest\n",
      "\u001B[1;37mDEBUG\u001B[1;0m:root:Loading app mdtest\n",
      "\u001B[1;37mDEBUG\u001B[1;0m:root:Loading app mdtest\n",
      "\u001B[1;37mDEBUG\u001B[1;0m:root:Loading app mdtest\n",
      "\u001B[1;37mDEBUG\u001B[1;0m:root:Loading app mdtest\n",
      "\u001B[1;37mDEBUG\u001B[1;0m:root:Loading app mdtest\n",
      "\u001B[1;37mDEBUG\u001B[1;0m:root:Loading app namd\n",
      "\u001B[1;37mDEBUG\u001B[1;0m:root:Loading app namd\n",
      "\u001B[1;37mDEBUG\u001B[1;0m:root:Loading app namd\n",
      "\u001B[1;37mDEBUG\u001B[1;0m:root:Loading app namd\n",
      "\u001B[1;37mDEBUG\u001B[1;0m:root:Loading app namd\n",
      "\u001B[1;37mDEBUG\u001B[1;0m:root:Loading app namd\n",
      "\u001B[1;37mDEBUG\u001B[1;0m:root:Loading app namd\n",
      "\u001B[1;37mDEBUG\u001B[1;0m:root:Loading app namd\n",
      "\u001B[1;37mDEBUG\u001B[1;0m:root:Loading app namd\n",
      "\u001B[1;37mDEBUG\u001B[1;0m:root:Loading app enzo\n",
      "\u001B[1;37mDEBUG\u001B[1;0m:root:Loading app enzo\n",
      "\u001B[1;37mDEBUG\u001B[1;0m:root:Loading app enzo\n",
      "\u001B[1;37mDEBUG\u001B[1;0m:root:Loading app enzo\n",
      "\u001B[1;37mDEBUG\u001B[1;0m:root:Loading app enzo\n",
      "\u001B[1;37mDEBUG\u001B[1;0m:root:Loading app enzo\n",
      "\u001B[1;37mDEBUG\u001B[1;0m:root:Loading app enzo\n",
      "\u001B[1;37mDEBUG\u001B[1;0m:root:Loading app enzo\n",
      "\u001B[1;37mDEBUG\u001B[1;0m:root:Loading app hpcc\n",
      "\u001B[1;37mDEBUG\u001B[1;0m:root:Loading app hpcc\n",
      "\u001B[1;37mDEBUG\u001B[1;0m:root:Loading app hpcc\n",
      "\u001B[1;37mDEBUG\u001B[1;0m:root:Loading app hpcc\n",
      "\u001B[1;37mDEBUG\u001B[1;0m:root:Loading app hpcc\n",
      "\u001B[1;37mDEBUG\u001B[1;0m:root:Loading app hpcc\n",
      "\u001B[1;37mDEBUG\u001B[1;0m:root:Loading app hpcc\n",
      "\u001B[1;37mDEBUG\u001B[1;0m:root:Loading app hpcc\n",
      "\u001B[1;37mDEBUG\u001B[1;0m:root:Loading app hpcc\n"
     ]
    }
   ],
   "source": [
    "%load_ext autoreload\n",
    "%autoreload 2\n",
    "from update2to3 import *"
   ],
   "metadata": {
    "collapsed": false,
    "pycharm": {
     "name": "#%%\n"
    }
   }
  },
  {
   "cell_type": "code",
   "execution_count": 2,
   "outputs": [],
   "source": [
    "# extra config for update\n",
    "from akrr.util import exec_files_to_dict\n",
    "update_param = exec_files_to_dict(\"update_param.py\")\n",
    "resource_ppn_lookup = update_param['resource_ppn_lookup']\n",
    "# call get_ppn with (resource_ppn_lookup)"
   ],
   "metadata": {
    "collapsed": false,
    "pycharm": {
     "name": "#%%\n"
    }
   }
  },
  {
   "cell_type": "code",
   "execution_count": 2,
   "outputs": [],
   "source": [],
   "metadata": {
    "collapsed": false,
    "pycharm": {
     "name": "#%%\n"
    }
   }
  },
  {
   "cell_type": "markdown",
   "source": [
    "## Make a Model"
   ],
   "metadata": {
    "collapsed": false,
    "pycharm": {
     "name": "#%% md\n"
    }
   }
  },
  {
   "cell_type": "code",
   "execution_count": 17,
   "outputs": [],
   "source": [
    "reset_new_db()"
   ],
   "metadata": {
    "collapsed": false,
    "pycharm": {
     "name": "#%%\n"
    }
   }
  },
  {
   "cell_type": "code",
   "execution_count": 18,
   "outputs": [],
   "source": [
    "import models"
   ],
   "metadata": {
    "collapsed": false,
    "pycharm": {
     "name": "#%%\n"
    }
   }
  },
  {
   "cell_type": "code",
   "execution_count": 19,
   "outputs": [],
   "source": [
    "with engine_appkernel.begin() as connection:\n",
    "    models.mapper_registry.metadata.create_all(connection)"
   ],
   "metadata": {
    "collapsed": false,
    "pycharm": {
     "name": "#%%\n"
    }
   }
  },
  {
   "cell_type": "markdown",
   "source": [
    "# Get Values From DB"
   ],
   "metadata": {
    "collapsed": false,
    "pycharm": {
     "name": "#%% md\n"
    }
   }
  },
  {
   "cell_type": "code",
   "execution_count": 20,
   "outputs": [],
   "source": [
    "with engine_akrr.connect() as connection:\n",
    "\n",
    "    result = connection.execute(text('''\n",
    "        select instance_id as task_id, resource, reporter as app, collected,\n",
    "            committed, executionhost,  reporternickname, status, message,\n",
    "            stderr, body, memory, cputime, walltime, job_id, internal_failure,\n",
    "            nodes, ncores, nnodes\n",
    "        from akrr_xdmod_instanceinfo where status=1 and reporter=\"namd\" limit 3'''))\n",
    "    tasks=result.fetchall()\n",
    "\n",
    "with engine_appkernel_v2.connect() as connection:\n",
    "    stmt = text('''\n",
    "SELECT `resource`.`resource_id`,\n",
    "    `resource`.`resource` as name,\n",
    "    `resource`.`nickname` as short_name,\n",
    "    `resource`.`description`,\n",
    "    `resource`.`enabled`,\n",
    "    `resource`.`visible`,\n",
    "    `resource`.`xdmod_resource_id`,\n",
    "    `resource`.`xdmod_cluster_id`\n",
    "FROM `mod_appkernel`.`resource`''')\n",
    "    result = connection.execute(stmt)\n",
    "    resource_mod_appkernel = result.fetchall()\n"
   ],
   "metadata": {
    "collapsed": false,
    "pycharm": {
     "name": "#%%\n"
    }
   }
  },
  {
   "cell_type": "code",
   "execution_count": 21,
   "outputs": [
    {
     "name": "stdout",
     "output_type": "stream",
     "text": [
      "Benchmark: NAMD\n",
      "\tApp:ExeBinSignature H4sIAB6RGVECA4WQy27bMBBF9/4KLtO6lTlDio/sajkNDDhuYKMBujL4GLYC/IIkF83fl8rDUdoGhQAuxHPPzGX15eZ2vrhaXbLrqmKykMUvdoGsq3fUfmBaMH/fUftuVP3Fif9wt9dz9vnQdI3bs+qwO9Zbaph6pRfmLT0UyC7gmQP7FlcW/J/c7NtyMZ9malv7wLAAfPm1/Mqq8ZitO7eProlsUfvGNfdM5FIgXrg8YHXa92q2Ph2PucoZze0Lfibn+1Tv62nWsTtqfHvGoIDRzay8ZBJCMl5Ja0tjjFWoEVTwSVkEEzSw95M6tZNTV28fDiUne7eLk+Wnm9kGC7NZH05NoI/z6d3Varp+uMRHNU/JaNV/XnKuE4/RcofeixhFFCmrT20zye+Qpfms/c9+x6I9PC/HnSwpJc2BhFKpLMFLAZGiFQT5KhvO6bjtg0+jZcRSCksWpRU+RBLBaIqKIAVSwg2Duz6nHnMmWkzJAgEanjQioSInfQpRK1Lmz5XbLobxeCAQzoYgSGh0kmR2OaEDcC08oEKyw8HfQ9gM25KNioNQLnHgKXdXECUlLxElUHqVDYOZsfQJKb+2slqGwKUXQD7oiJrbZNQwd+x+NORin+aj0W8WqescYwMAAA== None\n",
      "\tApp:NCores 96 None\n",
      "\tApp:NNodes 8 None\n",
      "\tApp:Version 2.8 None\n",
      "\tInput:Coordinate File apoa1.pdb None\n",
      "\tInput:Number of Angles 74136 None\n",
      "\tInput:Number of Atoms 92224 None\n",
      "\tInput:Number of Bonds 70660 None\n",
      "\tInput:Number of Dihedrals 74130 None\n",
      "\tInput:Number of Steps 1200 None\n",
      "\tInput:Structure File apoa1.psf None\n",
      "\tInput:Timestep 2e-15 Second per Step\n",
      "\tRunEnv:Nodes H4sIAB6RGVECA8s2NMgzMElUyKYZbZxnZE5b2sA4iYa0SZ6RZSJNaQOTJBrSZnlG4HigHW1gQWPaPIlWNBcA9pXlDQADAAA= None\n",
      "\tMemory 153.207031 MByte 80ec857ccfaca8b742397e29e95359c2\n",
      "\tMolecular Dynamics Simulation Performance 7.22271978736e-09 Second per Day 6cebe62d3cb0b15d2dfd0cfa44b78a58\n",
      "\tWall Clock Time 61.090492 Second 9205aade07644145cc5fd5d963199cc3\n"
     ]
    }
   ],
   "source": [
    "root_elm = ElementTree.fromstring(tasks[0].body)\n",
    "benchmark_name = root_elm.find(\".//benchmark/ID\").text\n",
    "params_elm = root_elm.find(\".//parameters\")\n",
    "stats_elm = root_elm.find(\".//statistics\")\n",
    "\n",
    "print(f'Benchmark: {benchmark_name}')\n",
    "for param in params_elm:\n",
    "    name = param.find(\"ID\").text\n",
    "    value = param.find(\"value\").text\n",
    "    units = param.find(\"units\")\n",
    "    if units is not None:\n",
    "        units = units.text\n",
    "    print(f'\\t{name} {value} {units}')\n",
    "\n",
    "for stat in stats_elm:\n",
    "    name = stat.find(\"ID\").text\n",
    "    value = stat.find(\"value\").text\n",
    "    units = stat.find(\"units\")\n",
    "    if units is not None:\n",
    "        units = units.text\n",
    "    guid = models.guid_calc(name+units)\n",
    "    print(f'\\t{name} {value} {units} {guid}')"
   ],
   "metadata": {
    "collapsed": false,
    "pycharm": {
     "name": "#%%\n"
    }
   }
  },
  {
   "cell_type": "markdown",
   "source": [
    "# Populate"
   ],
   "metadata": {
    "collapsed": false,
    "pycharm": {
     "name": "#%% md\n"
    }
   }
  },
  {
   "cell_type": "code",
   "execution_count": null,
   "outputs": [],
   "source": [
    "def MoveResourcesTable(resources, Session):\n",
    "    \"\"\"\n",
    "    add resources to db\n",
    "    \"\"\"\n",
    "    with Session.begin() as session:\n",
    "        for r in resource_mod_appkernel:\n",
    "            resource = session.query(Resource).filter_by(name=r.name).one_or_none()\n",
    "            if resource is not None:\n",
    "                log.warning(\"Resource {r.name} already in\")\n",
    "                continue\n",
    "            resource = Resource(resource_id=r.resource_id, name=r.name, short_name = r.short_name, description=r.description,\n",
    "                     enabled=r.enabled, visible=r.visible, xdmod_resource_id=r.xdmod_resource_id, xdmod_cluster_id=r.xdmod_cluster_id)\n",
    "            session.add(resource)\n",
    "        session.commit()\n",
    "\n",
    "\n",
    "def IngestTask(task, Session):\n",
    "    \"\"\"\n",
    "    return True on succesfull ingestion\n",
    "    \"\"\"\n",
    "    with Session.begin() as session:\n",
    "        try:\n",
    "            resource = session.query(Resource).filter_by(name=task.resource).one()\n",
    "        except sqlalchemy.orm.exc.NoResultFound:\n",
    "            try:\n",
    "                resource = session.query(Resource).filter_by(short_name=task.resource).one()\n",
    "            except sqlalchemy.orm.exc.NoResultFound:\n",
    "                log.error(f\"Unknown resource({task.resource}) to DB. Add it first.\")\n",
    "                return False\n",
    "\n",
    "        ak_id = 1\n",
    "        task_id = task.task_id\n",
    "        # read params and stats from result.xml\n",
    "        root_elm = ElementTree.fromstring(task.body)\n",
    "        root_elm.find(\"ID\").text\n",
    "        # benchmark_name = root_elm.find(\".//benchmark/ID\").text\n",
    "        # params_elm = root_elm.find(\".//parameters\")\n",
    "        stats_elm = root_elm.find(\".//statistics\")\n",
    "\n",
    "\n",
    "        for stat in stats_elm:\n",
    "            name = stat.find(\"ID\").text\n",
    "            value = stat.find(\"value\").text\n",
    "            units = stat.find(\"units\")\n",
    "            if units is not None:\n",
    "                units  = units.text\n",
    "            guid = guid_calc(name+units)\n",
    "\n",
    "            # get metric\n",
    "            try:\n",
    "                metric = session.query(Metric).filter_by(guid=guid).one()\n",
    "            except sqlalchemy.orm.exc.NoResultFound:\n",
    "                metric = Metric(name=name, unit=units, guid=guid, type=models.DataType.float)\n",
    "                session.add(metric)\n",
    "\n",
    "            # get metric_val\n",
    "            try:\n",
    "                metric_val = session.query(MetricNumData).filter_by(\n",
    "                    resource=resource, ak_id=ak_id, metric=metric, task_id=task_id).one()\n",
    "            except sqlalchemy.orm.exc.NoResultFound:\n",
    "                metric_val = MetricNumData(\n",
    "                    resource=resource, ak_id=ak_id, metric=metric, task_id=task_id)\n",
    "                session.add(metric_val)\n",
    "\n",
    "            # set values\n",
    "            metric_val.collected=task.collected,\n",
    "            metric_val.value=value\n",
    "\n",
    "            # reset control on reingest\n",
    "            metric_val.running_average=None\n",
    "            metric_val.control=None\n",
    "            metric_val.control_region_id=None\n",
    "            metric_val.control_status=models.ControlStatus.undefined\n",
    "\n",
    "        session.commit()\n",
    "    return True"
   ],
   "metadata": {
    "collapsed": false,
    "pycharm": {
     "name": "#%%\n"
    }
   }
  },
  {
   "cell_type": "code",
   "execution_count": null,
   "outputs": [],
   "source": [
    "def create_or_get(session, cl, **kwargs):\n",
    "    try:\n",
    "        o = session.query(cl).filter_by(**kwargs).one()\n",
    "    except sqlalchemy.orm.exc.NoResultFound:\n",
    "        o = cl(**kwargs)\n",
    "        session.add(o)\n",
    "    return o\n",
    "\n",
    "with SessionAKRR.begin() as session:\n",
    "    core = create_or_get(session, ComputeResourceType, name=\"core\")\n",
    "    node = create_or_get(session, ComputeResourceType, name=\"node\")\n",
    "    gpu = create_or_get(session, ComputeResourceType, name=\"GPU\")\n",
    "    node1 = create_or_get(session, ComputeResourceSpec, compute_resource_type=node, proc_units=1)\n",
    "    node2 = create_or_get(session, ComputeResourceSpec, compute_resource_type=node, proc_units=2)\n",
    "    node4 = create_or_get(session, ComputeResourceSpec, compute_resource_type=node, proc_units=4)\n",
    "    node8 = create_or_get(session, ComputeResourceSpec, compute_resource_type=node, proc_units=8)\n",
    "    node16 = create_or_get(session, ComputeResourceSpec, compute_resource_type=node, proc_units=16)\n",
    "    core8 = create_or_get(session, ComputeResourceSpec, compute_resource_type=core,proc_units=8)\n",
    "    core16 = create_or_get(session, ComputeResourceSpec, compute_resource_type=core,proc_units=16)\n",
    "    core32 = create_or_get(session, ComputeResourceSpec, compute_resource_type=core,proc_units=32)\n",
    "    core64 = create_or_get(session, ComputeResourceSpec, compute_resource_type=core,proc_units=64)\n",
    "    core128 = create_or_get(session, ComputeResourceSpec, compute_resource_type=core,proc_units=128)\n",
    "\n",
    "    node1_core8 = TotalComputeResourceSpec()\n",
    "    session.add(node1_core8)\n",
    "    session.add(TotalComputeResourceSpecList(total_compute_resource_spec=node1_core8, compute_resource_spec=node1))\n",
    "    session.add(TotalComputeResourceSpecList(total_compute_resource_spec=node1_core8, compute_resource_spec=core8))\n",
    "    #node1_core8 = create_or_get(session, TotalComputeResourceSpec, id=1)\n",
    "    #node2_core16 = create_or_get(session, TotalComputeResourceSpec, id=2)\n",
    "    session.commit()\n",
    "\n"
   ],
   "metadata": {
    "collapsed": false,
    "pycharm": {
     "name": "#%%\n"
    }
   }
  },
  {
   "cell_type": "code",
   "execution_count": null,
   "outputs": [],
   "source": [
    "spec = session.query(TotalComputeResourceSpec).all()\n",
    "spec"
   ],
   "metadata": {
    "collapsed": false,
    "pycharm": {
     "name": "#%%\n"
    }
   }
  },
  {
   "cell_type": "code",
   "execution_count": null,
   "outputs": [],
   "source": [
    "spec[0].total_compute_resource_spec_list"
   ],
   "metadata": {
    "collapsed": false,
    "pycharm": {
     "name": "#%%\n"
    }
   }
  },
  {
   "cell_type": "code",
   "execution_count": null,
   "outputs": [],
   "source": [],
   "metadata": {
    "collapsed": false,
    "pycharm": {
     "name": "#%%\n"
    }
   }
  },
  {
   "cell_type": "code",
   "execution_count": null,
   "outputs": [],
   "source": [
    "MoveResourcesTable(resource_mod_appkernel, Session)\n",
    "\n",
    "for task in tasks:\n",
    "    IngestTask(task, Session)"
   ],
   "metadata": {
    "collapsed": false,
    "pycharm": {
     "name": "#%%\n"
    }
   }
  },
  {
   "cell_type": "code",
   "execution_count": null,
   "outputs": [],
   "source": [],
   "metadata": {
    "collapsed": false,
    "pycharm": {
     "name": "#%%\n"
    }
   }
  },
  {
   "cell_type": "code",
   "execution_count": null,
   "outputs": [],
   "source": [
    "session = Session()\n",
    "select_statement = select(Resource)\n",
    "result = session.execute(select_statement)"
   ],
   "metadata": {
    "collapsed": false,
    "pycharm": {
     "name": "#%%\n"
    }
   }
  },
  {
   "cell_type": "markdown",
   "source": [],
   "metadata": {
    "collapsed": false,
    "pycharm": {
     "name": "#%% md\n"
    }
   }
  },
  {
   "cell_type": "code",
   "execution_count": null,
   "outputs": [],
   "source": [
    "result.fetchall()"
   ],
   "metadata": {
    "collapsed": false,
    "pycharm": {
     "name": "#%%\n"
    }
   }
  },
  {
   "cell_type": "code",
   "execution_count": null,
   "outputs": [],
   "source": [],
   "metadata": {
    "collapsed": false,
    "pycharm": {
     "name": "#%%\n"
    }
   }
  },
  {
   "cell_type": "code",
   "execution_count": null,
   "outputs": [],
   "source": [],
   "metadata": {
    "collapsed": false,
    "pycharm": {
     "name": "#%%\n"
    }
   }
  },
  {
   "cell_type": "code",
   "execution_count": null,
   "outputs": [],
   "source": [],
   "metadata": {
    "collapsed": false,
    "pycharm": {
     "name": "#%%\n"
    }
   }
  },
  {
   "cell_type": "code",
   "execution_count": null,
   "outputs": [],
   "source": [
    "from models_v2 import Resource as ResourceOld\n",
    "with SessionModAppKernel.begin() as session:\n",
    "    session.expire_on_commit=False\n",
    "    resources = session.query(ResourceOld).all()\n",
    "    print(resources)\n",
    "    r1 = resources[0]\n",
    "    print(r1.nickname)"
   ],
   "metadata": {
    "collapsed": false,
    "pycharm": {
     "name": "#%%\n"
    }
   }
  },
  {
   "cell_type": "code",
   "execution_count": null,
   "outputs": [],
   "source": [
    "r1 = resources[0]"
   ],
   "metadata": {
    "collapsed": false,
    "pycharm": {
     "name": "#%%\n"
    }
   }
  },
  {
   "cell_type": "code",
   "execution_count": null,
   "outputs": [],
   "source": [
    "r1.nickname"
   ],
   "metadata": {
    "collapsed": false,
    "pycharm": {
     "name": "#%%\n"
    }
   }
  },
  {
   "cell_type": "code",
   "execution_count": null,
   "outputs": [],
   "source": [
    "\n",
    "\n",
    "with SessionModAppKernel() as session:\n",
    "    resources_old_appkernel = session.query(ResourceModAKOld).all()\n",
    "s=\"\"\n",
    "for r in resources_old_appkernel:\n",
    "    ppn1 = get_ppn(r.nickname,ppn_lookup=resource_ppn_lookup,return_all_ppn=False)\n",
    "    ppn2 = get_ppn(r.resource,ppn_lookup=resource_ppn_lookup,return_all_ppn=False)\n",
    "    if ppn1 is None and ppn2 is not None:\n",
    "        ppn1=ppn2\n",
    "    s=s+f\"    '{r.nickname}': {ppn1},  # {r.resource}, {ppn2}\\n\"\n",
    "print(s)"
   ],
   "metadata": {
    "collapsed": false,
    "pycharm": {
     "name": "#%%\n"
    }
   }
  },
  {
   "cell_type": "code",
   "execution_count": null,
   "outputs": [],
   "source": [],
   "metadata": {
    "collapsed": false,
    "pycharm": {
     "name": "#%%\n"
    }
   }
  },
  {
   "cell_type": "code",
   "execution_count": null,
   "outputs": [],
   "source": [
    "import akrr\n",
    "from akrr.cfg import find_resource_by_name"
   ],
   "metadata": {
    "collapsed": false,
    "pycharm": {
     "name": "#%%\n"
    }
   }
  },
  {
   "cell_type": "code",
   "execution_count": null,
   "outputs": [],
   "source": [
    "try:\n",
    "    resource = find_resource_by_name(\"anvil\")\n",
    "except akrr.AkrrError:\n",
    "    resource =\n"
   ],
   "metadata": {
    "collapsed": false,
    "pycharm": {
     "name": "#%%\n"
    }
   }
  },
  {
   "cell_type": "code",
   "execution_count": null,
   "outputs": [],
   "source": [
    "\"\"\"SELECT `resourcefact`.`id` as resource_id,\n",
    "    `resourcefact`.`resourcetype_id`,\n",
    "    `resourcefact`.`organization_id`,\n",
    "    `resourcefact`.`name`,\n",
    "    `resourcespecs`.`name` as name2,\n",
    "    `resourcefact`.`code`,\n",
    "\t`resourcespecs`.`processors`,\n",
    "    `resourcespecs`.`q_nodes`,\n",
    "    `resourcespecs`.`q_ppn`,\n",
    "    `resourcefact`.`description`,\n",
    "\t`resourcespecs`.`comments`,\n",
    "    `resourcefact`.`start_date`,\n",
    "    `resourcefact`.`end_date`,\n",
    "    `resourcefact`.`shared_jobs`,\n",
    "    `resourcefact`.`timezone`,\n",
    "    `resourcefact`.`resource_origin_id`,\n",
    "    `resourcespecs`.`processors`,\n",
    "    `resourcespecs`.`q_nodes`,\n",
    "    `resourcespecs`.`q_ppn`\n",
    "FROM `modw`.`resourcespecs`\n",
    "LEFT JOIN `modw`.`resourcefact` ON `resourcefact`.`id`=`resourcespecs`.`resource_id`;\"\"\""
   ],
   "metadata": {
    "collapsed": false,
    "pycharm": {
     "name": "#%%\n"
    }
   }
  },
  {
   "cell_type": "code",
   "execution_count": null,
   "outputs": [],
   "source": [],
   "metadata": {
    "collapsed": false,
    "pycharm": {
     "name": "#%%\n"
    }
   }
  },
  {
   "cell_type": "code",
   "execution_count": null,
   "outputs": [],
   "source": [],
   "metadata": {
    "collapsed": false,
    "pycharm": {
     "name": "#%%\n"
    }
   }
  },
  {
   "cell_type": "code",
   "execution_count": null,
   "outputs": [],
   "source": [],
   "metadata": {
    "collapsed": false,
    "pycharm": {
     "name": "#%%\n"
    }
   }
  }
 ],
 "metadata": {
  "kernelspec": {
   "display_name": "Python 3",
   "language": "python",
   "name": "python3"
  },
  "language_info": {
   "codemirror_mode": {
    "name": "ipython",
    "version": 2
   },
   "file_extension": ".py",
   "mimetype": "text/x-python",
   "name": "python",
   "nbconvert_exporter": "python",
   "pygments_lexer": "ipython2",
   "version": "2.7.6"
  }
 },
 "nbformat": 4,
 "nbformat_minor": 0
}